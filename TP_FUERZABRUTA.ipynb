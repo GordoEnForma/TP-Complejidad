{
  "nbformat": 4,
  "nbformat_minor": 0,
  "metadata": {
    "colab": {
      "name": "TP_FUERZABRUTA.ipynb",
      "provenance": [],
      "collapsed_sections": [],
      "mount_file_id": "1ilbNi8VE6AnJBdBnsADOjjIPlzjm9SPG",
      "authorship_tag": "ABX9TyODwdtZDZq44UfFZtlSPrq6",
      "include_colab_link": true
    },
    "kernelspec": {
      "name": "python3",
      "display_name": "Python 3"
    },
    "language_info": {
      "name": "python"
    }
  },
  "cells": [
    {
      "cell_type": "markdown",
      "metadata": {
        "id": "view-in-github",
        "colab_type": "text"
      },
      "source": [
        "<a href=\"https://colab.research.google.com/github/GordoEnForma/TP-Complejidad/blob/main/TP_FUERZABRUTA.ipynb\" target=\"_parent\"><img src=\"https://colab.research.google.com/assets/colab-badge.svg\" alt=\"Open In Colab\"/></a>"
      ]
    },
    {
      "cell_type": "markdown",
      "metadata": {
        "id": "rKOOFrwOFuiN"
      },
      "source": [
        "##TRABAJO PARCIAL - FUERZA BRUTA\n",
        "Propuesta de solución usando FB para el problema del viajero"
      ]
    },
    {
      "cell_type": "code",
      "metadata": {
        "id": "blu69gbYWtgG"
      },
      "source": [
        "import pandas as pd\n",
        "import networkx as nx"
      ],
      "execution_count": null,
      "outputs": []
    },
    {
      "cell_type": "code",
      "metadata": {
        "id": "jBaJv6loa6hn",
        "colab": {
          "base_uri": "https://localhost:8080/",
          "height": 191
        },
        "outputId": "acdb195a-5773-45fe-8bc1-a344a23bec59"
      },
      "source": [
        "CSV=\"https://raw.githubusercontent.com/lmcanavals/algorithmic_complexity/main/data/poblaciones.csv\"\n",
        "CP = pd.read_csv(CSV)\n",
        "CP.head()"
      ],
      "execution_count": null,
      "outputs": [
        {
          "output_type": "execute_result",
          "data": {
            "text/html": [
              "<div>\n",
              "<style scoped>\n",
              "    .dataframe tbody tr th:only-of-type {\n",
              "        vertical-align: middle;\n",
              "    }\n",
              "\n",
              "    .dataframe tbody tr th {\n",
              "        vertical-align: top;\n",
              "    }\n",
              "\n",
              "    .dataframe thead th {\n",
              "        text-align: right;\n",
              "    }\n",
              "</style>\n",
              "<table border=\"1\" class=\"dataframe\">\n",
              "  <thead>\n",
              "    <tr style=\"text-align: right;\">\n",
              "      <th></th>\n",
              "      <th>DEPARTAMENTO</th>\n",
              "      <th>PROVINCIA</th>\n",
              "      <th>DISTRITO</th>\n",
              "      <th>CENTRO POBLADO</th>\n",
              "      <th>LATITUD</th>\n",
              "      <th>LONGITUD</th>\n",
              "      <th>NMI1</th>\n",
              "      <th>NMI2</th>\n",
              "    </tr>\n",
              "  </thead>\n",
              "  <tbody>\n",
              "    <tr>\n",
              "      <th>0</th>\n",
              "      <td>AMAZONAS</td>\n",
              "      <td>BAGUA</td>\n",
              "      <td>ARAMANGO</td>\n",
              "      <td>EL MUYO (C.P.L.)</td>\n",
              "      <td>-5.422545</td>\n",
              "      <td>-78.45299</td>\n",
              "      <td>311</td>\n",
              "      <td>1206</td>\n",
              "    </tr>\n",
              "    <tr>\n",
              "      <th>1</th>\n",
              "      <td>AMAZONAS</td>\n",
              "      <td>BAGUA</td>\n",
              "      <td>ARAMANGO</td>\n",
              "      <td>RESERVA UJUCANO</td>\n",
              "      <td>-5.427565</td>\n",
              "      <td>-78.444372</td>\n",
              "      <td>44</td>\n",
              "      <td>129</td>\n",
              "    </tr>\n",
              "    <tr>\n",
              "      <th>2</th>\n",
              "      <td>AMAZONAS</td>\n",
              "      <td>BAGUA</td>\n",
              "      <td>ARAMANGO</td>\n",
              "      <td>TUTUMBEROS</td>\n",
              "      <td>-5.327317</td>\n",
              "      <td>-78.44472</td>\n",
              "      <td>49</td>\n",
              "      <td>179</td>\n",
              "    </tr>\n",
              "    <tr>\n",
              "      <th>3</th>\n",
              "      <td>AMAZONAS</td>\n",
              "      <td>BAGUA</td>\n",
              "      <td>BAGUA</td>\n",
              "      <td>ALENYA BAJO</td>\n",
              "      <td>-5.682439</td>\n",
              "      <td>-78.495229</td>\n",
              "      <td>3</td>\n",
              "      <td>8</td>\n",
              "    </tr>\n",
              "    <tr>\n",
              "      <th>4</th>\n",
              "      <td>AMAZONAS</td>\n",
              "      <td>BONGARA</td>\n",
              "      <td>CUISPES</td>\n",
              "      <td>MITOPAMPA</td>\n",
              "      <td>-5.93856</td>\n",
              "      <td>-77.965302</td>\n",
              "      <td>1</td>\n",
              "      <td>4</td>\n",
              "    </tr>\n",
              "  </tbody>\n",
              "</table>\n",
              "</div>"
            ],
            "text/plain": [
              "  DEPARTAMENTO PROVINCIA  DISTRITO  ...    LONGITUD NMI1  NMI2\n",
              "0     AMAZONAS     BAGUA  ARAMANGO  ...   -78.45299  311  1206\n",
              "1     AMAZONAS     BAGUA  ARAMANGO  ...  -78.444372   44   129\n",
              "2     AMAZONAS     BAGUA  ARAMANGO  ...   -78.44472   49   179\n",
              "3     AMAZONAS     BAGUA     BAGUA  ...  -78.495229    3     8\n",
              "4     AMAZONAS   BONGARA   CUISPES  ...  -77.965302    1     4\n",
              "\n",
              "[5 rows x 8 columns]"
            ]
          },
          "metadata": {
            "tags": []
          },
          "execution_count": 2
        }
      ]
    },
    {
      "cell_type": "code",
      "metadata": {
        "id": "fWEgqrDYeRKd",
        "colab": {
          "base_uri": "https://localhost:8080/"
        },
        "outputId": "8daa74cc-c790-4793-b67d-fe217c2faeaa"
      },
      "source": [
        "provincias = CP['PROVINCIA'].unique()\n",
        "print(len(provincias))\n",
        "provincias"
      ],
      "execution_count": null,
      "outputs": [
        {
          "output_type": "stream",
          "text": [
            "157\n"
          ],
          "name": "stdout"
        },
        {
          "output_type": "execute_result",
          "data": {
            "text/plain": [
              "array(['BAGUA', 'BONGARA', 'CHACHAPOYAS', 'UTCUBAMBA', 'ANTONIO RAYMONDI',\n",
              "       'BOLOGNESI', 'CARHUAZ', 'CASMA', 'HUARAZ', 'HUARI', 'HUAYLAS',\n",
              "       'OCROS', 'POMABAMBA', 'RECUAY', 'SANTA', 'SIHUAS', 'YUNGAY',\n",
              "       'ABANCAY', 'ANDAHUAYLAS', 'ANTABAMBA', 'AYMARAES', 'CHINCHEROS',\n",
              "       'GRAU', 'AREQUIPA', 'CAMANA', 'CARAVELI', 'CASTILLA', 'CAYLLOMA',\n",
              "       'CONDESUYOS', 'CANGALLO', 'HUAMANGA', 'HUANCA SANCOS', 'HUANTA',\n",
              "       'LUCANAS', 'PARINACOCHAS', 'VICTOR FAJARDO', 'CAJABAMBA',\n",
              "       'CAJAMARCA', 'CELENDIN', 'CHOTA', 'CONTUMAZA', 'CUTERVO', 'JAEN',\n",
              "       'SAN IGNACIO', 'SAN MARCOS', 'SAN MIGUEL', 'SAN MIMGUEL',\n",
              "       'SANTA CRUZ', 'ACOMAYO', 'CALCA', 'CANAS', 'CANCHIS',\n",
              "       'CHUMBIVILCAS', 'LA CONVENCION', 'PARURO', 'QUISPICANCHI',\n",
              "       'PROVINCIA', 'CASTROVIRREYNA', 'CHURCAMPA', 'HUANCAVELICA',\n",
              "       'HUAYTARA', 'TAYACAJA', 'AMBO', 'DOS DE MAYO', 'DOSDEMAYO',\n",
              "       'HUAMALIES', 'HUANUCO SANTA', 'HUANUCO', 'LAURICOCHA',\n",
              "       'LEONCIO PRADO', 'MARAÑON', 'PUERTO INCA', 'CHINCHA', 'ICA',\n",
              "       'NASCA', 'PALPA', 'PISCO', 'CHANCHAMAYO', 'CHUPACA', 'CONCEPCION',\n",
              "       'HUANCAYO', 'JAUJA', 'JUNIN', 'SATIPO', 'TARMA', 'ASCOPE',\n",
              "       'BOLIVAR', 'CHEPEN', 'GRAN CHIMU', 'JULCAN', 'OTUZCO', 'PACASMAYO',\n",
              "       'PATAZ', 'SANCHEZ CARRION', 'SANTIAGO DE CHUCO', 'TRUJILLO',\n",
              "       'VIRU', 'CHICLAYO', 'FERREÑAFE', 'LAMBAYEQUE', 'BARRANCA',\n",
              "       'CAJATAMBO', 'CAÑETE', 'HUARAL', 'HUAROCHIRI', 'HUAURA', 'LIMA',\n",
              "       'OYON', 'YAUYOS', 'ALTO AMAZONAS', 'LORETO',\n",
              "       'MARISCAL RAMON CASTILLA', 'MAYNAS', 'PUTUMAYO   10', 'REQUENA',\n",
              "       'UCAYALI', 'MANU', 'TAMBOPATA', 'GENERAL SANCHEZ CERRO',\n",
              "       'MARISCAL NIETO', 'DANIEL ALCIDES CARRION', 'OXAPAMPA', 'PASCO',\n",
              "       'AYABACA', 'HUANCABAMBA', 'MORROPON', 'PAITA', 'PIURA', 'SECHURA',\n",
              "       'SULLANA', 'TALARA', 'AZANGARO', 'CARABAYA', 'CHUCUITO',\n",
              "       'EL COLLAO', 'LAMPA', 'MELGAR', 'PUNO', 'SANDIA', 'BELLAVISTA',\n",
              "       'HUALLAGA', 'LAMAS', 'MARISCAL CACERES', 'MOYOBAMBA', 'PICOTA',\n",
              "       'RIOJA', 'SAN MARTIN', 'TOCACHE', 'CANDARAVE', 'JORGE BASADRE',\n",
              "       'TACNA', 'TARATA', 'CONTRALMIRANTE VILLAR', 'TUMBES', 'ZARUMILLA',\n",
              "       'CORONEL PORTILLO', 'PADRE ABAD'], dtype=object)"
            ]
          },
          "metadata": {
            "tags": []
          },
          "execution_count": 3
        }
      ]
    },
    {
      "cell_type": "code",
      "metadata": {
        "id": "fAVauSFsePBM"
      },
      "source": [
        "# Crear lista a partir de su provincia\n",
        "def listaDistritos(prov):\n",
        "  listitaDis = []\n",
        "  \n",
        "  for e in range(0,len(CP)):\n",
        "    if CP['PROVINCIA'][e] == prov and (CP['DISTRITO'][e] not in listitaDis):\n",
        "      \n",
        "      listitaDis.append(CP['DISTRITO'][e])\n",
        "\n",
        "  return listitaDis"
      ],
      "execution_count": null,
      "outputs": []
    },
    {
      "cell_type": "code",
      "metadata": {
        "id": "VOSYK4_X52DQ"
      },
      "source": [
        "distritoDF = dict()\n",
        "\n",
        "distritos = listaDistritos('CHICLAYO')\n",
        "\n",
        "for distrito in distritos:\n",
        "  distritoDF[distrito] = CP[CP['DISTRITO'] == distrito]\n"
      ],
      "execution_count": null,
      "outputs": []
    },
    {
      "cell_type": "code",
      "metadata": {
        "id": "qdn8sfKa4mgE"
      },
      "source": [
        "def listaCP(distrito):\n",
        "  listitaCP = []\n",
        "  \n",
        "  for e in range(0,len(CP)):\n",
        "    if CP['DISTRITO'][e] == distrito:\n",
        "      listitaCP.append(CP['CENTRO POBLADO'][e])\n",
        "\n",
        "  return listitaCP"
      ],
      "execution_count": null,
      "outputs": []
    },
    {
      "cell_type": "code",
      "metadata": {
        "id": "fFpfny1tlKJl"
      },
      "source": [
        "centrosPobladosDF = dict()\n",
        "centrosPoblados = listaCP('NUEVA ARICA')\n",
        "\n",
        "for cp in centrosPoblados:\n",
        "  centrosPobladosDF[cp] = distritoDF['NUEVA ARICA'][distritoDF['NUEVA ARICA']['CENTRO POBLADO'] ==cp]\n"
      ],
      "execution_count": null,
      "outputs": []
    },
    {
      "cell_type": "code",
      "metadata": {
        "id": "_Ctu8eFpkDp3",
        "colab": {
          "base_uri": "https://localhost:8080/"
        },
        "outputId": "cc82cbef-8c8d-4434-b1f7-83b030604773"
      },
      "source": [
        "centrosPoblados"
      ],
      "execution_count": null,
      "outputs": [
        {
          "output_type": "execute_result",
          "data": {
            "text/plain": [
              "['DOS CORRALES', 'EL PALMO', 'LA VIÑA', 'PAMPA DE LEQUE LEQUE', 'SALDAÑA BAJO']"
            ]
          },
          "metadata": {
            "tags": []
          },
          "execution_count": 9
        }
      ]
    },
    {
      "cell_type": "code",
      "metadata": {
        "id": "74mXRaN-kYIG"
      },
      "source": [
        "from itertools import permutations"
      ],
      "execution_count": null,
      "outputs": []
    },
    {
      "cell_type": "code",
      "metadata": {
        "id": "xDP6gMMEYNF3"
      },
      "source": [
        "def GenerarRutas(listCP):\n",
        "  lista = []\n",
        "  lista = list(permutations(listCP))\n",
        "  return lista\n"
      ],
      "execution_count": null,
      "outputs": []
    },
    {
      "cell_type": "code",
      "metadata": {
        "id": "WZU53UsomXC_"
      },
      "source": [
        "rutas= GenerarRutas(centrosPoblados)"
      ],
      "execution_count": null,
      "outputs": []
    },
    {
      "cell_type": "code",
      "metadata": {
        "id": "hSX1G3D6k8Ci"
      },
      "source": [
        "def filtrarRutas(lista,cpInicial):\n",
        "  #Ubicamos el codigo dentro del gráfo que representa al nomCP\n",
        "  for data in lista:\n",
        "    if data[0] == cpInicial:\n",
        "      code = data[0]\n",
        "      break\n",
        "  #Creamos una lista filtrada a partir de ese codigo\n",
        "  lista_filtrada = [list(x) for x in lista if x[0] == code ]\n",
        "\n",
        "  #Añadimos la ubicación al final de la lista para su posterior cálculo\n",
        "  for x in range(len(lista_filtrada)):\n",
        "    lista_filtrada[x].append(code)\n",
        "\n",
        "  return lista_filtrada"
      ],
      "execution_count": null,
      "outputs": []
    },
    {
      "cell_type": "code",
      "metadata": {
        "colab": {
          "base_uri": "https://localhost:8080/"
        },
        "id": "zKg-YXDVmZxR",
        "outputId": "ee0569a1-f6a7-4ad5-e2ab-6573f1d44ade"
      },
      "source": [
        "posibles_rutas =  filtrarRutas(rutas,'DOS CORRALES')\n",
        "posibles_rutas"
      ],
      "execution_count": null,
      "outputs": [
        {
          "output_type": "execute_result",
          "data": {
            "text/plain": [
              "[['DOS CORRALES',\n",
              "  'EL PALMO',\n",
              "  'LA VIÑA',\n",
              "  'PAMPA DE LEQUE LEQUE',\n",
              "  'SALDAÑA BAJO',\n",
              "  'DOS CORRALES'],\n",
              " ['DOS CORRALES',\n",
              "  'EL PALMO',\n",
              "  'LA VIÑA',\n",
              "  'SALDAÑA BAJO',\n",
              "  'PAMPA DE LEQUE LEQUE',\n",
              "  'DOS CORRALES'],\n",
              " ['DOS CORRALES',\n",
              "  'EL PALMO',\n",
              "  'PAMPA DE LEQUE LEQUE',\n",
              "  'LA VIÑA',\n",
              "  'SALDAÑA BAJO',\n",
              "  'DOS CORRALES'],\n",
              " ['DOS CORRALES',\n",
              "  'EL PALMO',\n",
              "  'PAMPA DE LEQUE LEQUE',\n",
              "  'SALDAÑA BAJO',\n",
              "  'LA VIÑA',\n",
              "  'DOS CORRALES'],\n",
              " ['DOS CORRALES',\n",
              "  'EL PALMO',\n",
              "  'SALDAÑA BAJO',\n",
              "  'LA VIÑA',\n",
              "  'PAMPA DE LEQUE LEQUE',\n",
              "  'DOS CORRALES'],\n",
              " ['DOS CORRALES',\n",
              "  'EL PALMO',\n",
              "  'SALDAÑA BAJO',\n",
              "  'PAMPA DE LEQUE LEQUE',\n",
              "  'LA VIÑA',\n",
              "  'DOS CORRALES'],\n",
              " ['DOS CORRALES',\n",
              "  'LA VIÑA',\n",
              "  'EL PALMO',\n",
              "  'PAMPA DE LEQUE LEQUE',\n",
              "  'SALDAÑA BAJO',\n",
              "  'DOS CORRALES'],\n",
              " ['DOS CORRALES',\n",
              "  'LA VIÑA',\n",
              "  'EL PALMO',\n",
              "  'SALDAÑA BAJO',\n",
              "  'PAMPA DE LEQUE LEQUE',\n",
              "  'DOS CORRALES'],\n",
              " ['DOS CORRALES',\n",
              "  'LA VIÑA',\n",
              "  'PAMPA DE LEQUE LEQUE',\n",
              "  'EL PALMO',\n",
              "  'SALDAÑA BAJO',\n",
              "  'DOS CORRALES'],\n",
              " ['DOS CORRALES',\n",
              "  'LA VIÑA',\n",
              "  'PAMPA DE LEQUE LEQUE',\n",
              "  'SALDAÑA BAJO',\n",
              "  'EL PALMO',\n",
              "  'DOS CORRALES'],\n",
              " ['DOS CORRALES',\n",
              "  'LA VIÑA',\n",
              "  'SALDAÑA BAJO',\n",
              "  'EL PALMO',\n",
              "  'PAMPA DE LEQUE LEQUE',\n",
              "  'DOS CORRALES'],\n",
              " ['DOS CORRALES',\n",
              "  'LA VIÑA',\n",
              "  'SALDAÑA BAJO',\n",
              "  'PAMPA DE LEQUE LEQUE',\n",
              "  'EL PALMO',\n",
              "  'DOS CORRALES'],\n",
              " ['DOS CORRALES',\n",
              "  'PAMPA DE LEQUE LEQUE',\n",
              "  'EL PALMO',\n",
              "  'LA VIÑA',\n",
              "  'SALDAÑA BAJO',\n",
              "  'DOS CORRALES'],\n",
              " ['DOS CORRALES',\n",
              "  'PAMPA DE LEQUE LEQUE',\n",
              "  'EL PALMO',\n",
              "  'SALDAÑA BAJO',\n",
              "  'LA VIÑA',\n",
              "  'DOS CORRALES'],\n",
              " ['DOS CORRALES',\n",
              "  'PAMPA DE LEQUE LEQUE',\n",
              "  'LA VIÑA',\n",
              "  'EL PALMO',\n",
              "  'SALDAÑA BAJO',\n",
              "  'DOS CORRALES'],\n",
              " ['DOS CORRALES',\n",
              "  'PAMPA DE LEQUE LEQUE',\n",
              "  'LA VIÑA',\n",
              "  'SALDAÑA BAJO',\n",
              "  'EL PALMO',\n",
              "  'DOS CORRALES'],\n",
              " ['DOS CORRALES',\n",
              "  'PAMPA DE LEQUE LEQUE',\n",
              "  'SALDAÑA BAJO',\n",
              "  'EL PALMO',\n",
              "  'LA VIÑA',\n",
              "  'DOS CORRALES'],\n",
              " ['DOS CORRALES',\n",
              "  'PAMPA DE LEQUE LEQUE',\n",
              "  'SALDAÑA BAJO',\n",
              "  'LA VIÑA',\n",
              "  'EL PALMO',\n",
              "  'DOS CORRALES'],\n",
              " ['DOS CORRALES',\n",
              "  'SALDAÑA BAJO',\n",
              "  'EL PALMO',\n",
              "  'LA VIÑA',\n",
              "  'PAMPA DE LEQUE LEQUE',\n",
              "  'DOS CORRALES'],\n",
              " ['DOS CORRALES',\n",
              "  'SALDAÑA BAJO',\n",
              "  'EL PALMO',\n",
              "  'PAMPA DE LEQUE LEQUE',\n",
              "  'LA VIÑA',\n",
              "  'DOS CORRALES'],\n",
              " ['DOS CORRALES',\n",
              "  'SALDAÑA BAJO',\n",
              "  'LA VIÑA',\n",
              "  'EL PALMO',\n",
              "  'PAMPA DE LEQUE LEQUE',\n",
              "  'DOS CORRALES'],\n",
              " ['DOS CORRALES',\n",
              "  'SALDAÑA BAJO',\n",
              "  'LA VIÑA',\n",
              "  'PAMPA DE LEQUE LEQUE',\n",
              "  'EL PALMO',\n",
              "  'DOS CORRALES'],\n",
              " ['DOS CORRALES',\n",
              "  'SALDAÑA BAJO',\n",
              "  'PAMPA DE LEQUE LEQUE',\n",
              "  'EL PALMO',\n",
              "  'LA VIÑA',\n",
              "  'DOS CORRALES'],\n",
              " ['DOS CORRALES',\n",
              "  'SALDAÑA BAJO',\n",
              "  'PAMPA DE LEQUE LEQUE',\n",
              "  'LA VIÑA',\n",
              "  'EL PALMO',\n",
              "  'DOS CORRALES']]"
            ]
          },
          "metadata": {
            "tags": []
          },
          "execution_count": 14
        }
      ]
    },
    {
      "cell_type": "code",
      "metadata": {
        "colab": {
          "base_uri": "https://localhost:8080/"
        },
        "id": "xx7ZmzplouWq",
        "outputId": "5bf75e69-7d75-4192-826b-a9b7aa599662"
      },
      "source": [
        "centrosPobladosDF"
      ],
      "execution_count": null,
      "outputs": [
        {
          "output_type": "execute_result",
          "data": {
            "text/plain": [
              "{'DOS CORRALES':      DEPARTAMENTO PROVINCIA     DISTRITO  ...    LONGITUD NMI1 NMI2\n",
              " 1618   LAMBAYEQUE  CHICLAYO  NUEVA ARICA  ...  -79.366007   13   36\n",
              " \n",
              " [1 rows x 8 columns],\n",
              " 'EL PALMO':      DEPARTAMENTO PROVINCIA     DISTRITO  ...    LONGITUD NMI1 NMI2\n",
              " 1619   LAMBAYEQUE  CHICLAYO  NUEVA ARICA  ...  -79.332908    1    2\n",
              " \n",
              " [1 rows x 8 columns],\n",
              " 'LA VIÑA':      DEPARTAMENTO PROVINCIA     DISTRITO  ...    LONGITUD NMI1 NMI2\n",
              " 1620   LAMBAYEQUE  CHICLAYO  NUEVA ARICA  ...  -79.457594  131  406\n",
              " \n",
              " [1 rows x 8 columns],\n",
              " 'PAMPA DE LEQUE LEQUE':      DEPARTAMENTO PROVINCIA     DISTRITO  ...    LONGITUD NMI1 NMI2\n",
              " 1621   LAMBAYEQUE  CHICLAYO  NUEVA ARICA  ...  -79.366725    3    7\n",
              " \n",
              " [1 rows x 8 columns],\n",
              " 'SALDAÑA BAJO':      DEPARTAMENTO PROVINCIA     DISTRITO  ...    LONGITUD NMI1 NMI2\n",
              " 1622   LAMBAYEQUE  CHICLAYO  NUEVA ARICA  ...  -79.450958    9   30\n",
              " \n",
              " [1 rows x 8 columns]}"
            ]
          },
          "metadata": {
            "tags": []
          },
          "execution_count": 15
        }
      ]
    },
    {
      "cell_type": "code",
      "metadata": {
        "colab": {
          "base_uri": "https://localhost:8080/"
        },
        "id": "BUvkWOzTqyTQ",
        "outputId": "41f2782d-2179-4479-cf1e-6181bea391a0"
      },
      "source": [
        "'DOS CORRALES' in centrosPobladosDF"
      ],
      "execution_count": null,
      "outputs": [
        {
          "output_type": "execute_result",
          "data": {
            "text/plain": [
              "True"
            ]
          },
          "metadata": {
            "tags": []
          },
          "execution_count": 16
        }
      ]
    },
    {
      "cell_type": "code",
      "metadata": {
        "id": "n7Meqh6xNxeH"
      },
      "source": [
        "# Lo mejor de todo el código\n",
        "def devolverNodo(nombreCP,df):\n",
        "  if nombreCP in df:\n",
        "    nodo = df[nombreCP]\n",
        "  return nodo.values.tolist()\n",
        " \n"
      ],
      "execution_count": null,
      "outputs": []
    },
    {
      "cell_type": "code",
      "metadata": {
        "colab": {
          "base_uri": "https://localhost:8080/",
          "height": 35
        },
        "id": "sxcH5oTxvegR",
        "outputId": "51f388fa-8f69-4e55-8fa5-45b5d02fc157"
      },
      "source": [
        "devolverNodo('DOS CORRALES',centrosPobladosDF)[0][4]\n"
      ],
      "execution_count": null,
      "outputs": [
        {
          "output_type": "execute_result",
          "data": {
            "application/vnd.google.colaboratory.intrinsic+json": {
              "type": "string"
            },
            "text/plain": [
              "'-6.877873'"
            ]
          },
          "metadata": {
            "tags": []
          },
          "execution_count": 18
        }
      ]
    },
    {
      "cell_type": "markdown",
      "metadata": {
        "id": "oKkfi-y-prkX"
      },
      "source": [
        "##Calcular Distancia"
      ]
    },
    {
      "cell_type": "code",
      "metadata": {
        "id": "95SF3R1oy4HV"
      },
      "source": [
        "def distancia(p1,p2):\n",
        "  dist = ((float(p2[0][4]) - float(p1[0][4]))**2 + (float(p2[0][5]) - float(p1[0][5]))**2)**0.5\n",
        "  return dist"
      ],
      "execution_count": null,
      "outputs": []
    },
    {
      "cell_type": "code",
      "metadata": {
        "id": "_y6h6SkYpGqt"
      },
      "source": [
        "def calcularDistancia(lista,df):\n",
        "  distancias = []\n",
        "  sumaAcumulada = 0\n",
        "  edges = []\n",
        "  lista_edges = []\n",
        "  for i in range(len(lista)):\n",
        "    for j in range(1,len(lista[i])):\n",
        "      nodo1 = devolverNodo(lista[i][j-1], df)\n",
        "      nodo2 =  devolverNodo(lista[i][j],  df)\n",
        "      sumaAcumulada += distancia(nodo1,nodo2)\n",
        "      edges.append(distancia(nodo1,nodo2))\n",
        "\n",
        "    lista_edges.append(edges)\n",
        "    edges = []\n",
        "\n",
        "    distancias.append(sumaAcumulada)\n",
        "    min_value = min(distancias)\n",
        "    index = distancias.index(min_value)\n",
        "    \n",
        "    sumaAcumulada = 0\n",
        "  return min(distancias), lista[index], index, lista_edges[index]"
      ],
      "execution_count": null,
      "outputs": []
    },
    {
      "cell_type": "code",
      "metadata": {
        "colab": {
          "base_uri": "https://localhost:8080/"
        },
        "id": "4lqBTovfy5gZ",
        "outputId": "dd6b7ac8-6b26-45da-d88d-aac076213d83"
      },
      "source": [
        "minDist,path,index,edges =  calcularDistancia(posibles_rutas,centrosPobladosDF)\n",
        "edges"
      ],
      "execution_count": null,
      "outputs": [
        {
          "output_type": "execute_result",
          "data": {
            "text/plain": [
              "[0.03648936010674258,\n",
              " 0.03990746282338595,\n",
              " 0.09194587604672444,\n",
              " 0.007063147810997783,\n",
              " 0.08672309822071995]"
            ]
          },
          "metadata": {
            "tags": []
          },
          "execution_count": 21
        }
      ]
    },
    {
      "cell_type": "code",
      "metadata": {
        "id": "oluYzJOy4zR3"
      },
      "source": [
        "def crearGraph(path):\n",
        "  G = nx.DiGraph()\n",
        "  for e in range(0,len(path)):\n",
        "    G.add_node(path[e])\n",
        "  for e in range(0,len(path)-1):\n",
        "    if(e == len(path)-2):\n",
        "      G.add_edge(list(G.nodes)[e],list(G.nodes)[0], weight = edges[e] )\n",
        "      break  \n",
        "    G.add_edge(list(G.nodes)[e],list(G.nodes)[e+1], weight = edges[e] )\n",
        "    \n",
        "  return G"
      ],
      "execution_count": null,
      "outputs": []
    },
    {
      "cell_type": "code",
      "metadata": {
        "colab": {
          "base_uri": "https://localhost:8080/"
        },
        "id": "VS_0K_7fasXv",
        "outputId": "aefe0fb9-ff3e-4b22-c7dd-2b82b0b218c8"
      },
      "source": [
        "G = crearGraph(path)\n",
        "list(G.nodes)"
      ],
      "execution_count": null,
      "outputs": [
        {
          "output_type": "execute_result",
          "data": {
            "text/plain": [
              "['DOS CORRALES', 'EL PALMO', 'PAMPA DE LEQUE LEQUE', 'LA VIÑA', 'SALDAÑA BAJO']"
            ]
          },
          "metadata": {
            "tags": []
          },
          "execution_count": 23
        }
      ]
    },
    {
      "cell_type": "code",
      "metadata": {
        "id": "A0HXi3hGEOOh"
      },
      "source": [
        "import graphviz as gv\n",
        "import networkx as nx\n",
        "\n",
        "def nx2gv(G, weighted=False, params={'rankdir': 'LR', 'size': '6'},\n",
        "          path=None, pathparams={'color':'orangered'}, nodeinfo=False):\n",
        "  if G.is_directed():\n",
        "    g = gv.Digraph('G')\n",
        "  else:\n",
        "    g = gv.Graph('G')\n",
        "  g.attr(**params)\n",
        "\n",
        "  for u in G.nodes:\n",
        "    if nodeinfo:\n",
        "      g.node(str(u), **dict(G.nodes[u]))\n",
        "    else:\n",
        "      g.node(str(u))\n",
        "\n",
        "  for u, v in G.edges():\n",
        "    pp = pathparams if path and path[v] == u else {}\n",
        "\n",
        "    if weighted:\n",
        "      g.edge(str(u), str(v), f\"{G.edges[u, v]['weight']}\", **pp)\n",
        "    else:\n",
        "      g.edge(str(u), str(v), **pp)\n",
        "      \n",
        "  return g"
      ],
      "execution_count": null,
      "outputs": []
    },
    {
      "cell_type": "code",
      "metadata": {
        "colab": {
          "base_uri": "https://localhost:8080/",
          "height": 543
        },
        "id": "qIOBIe48W_OE",
        "outputId": "7f53b130-281c-4b97-e613-7cdd93ea1ceb"
      },
      "source": [
        "\n",
        "nx2gv(G, weighted=True, params={'size':'15'})"
      ],
      "execution_count": null,
      "outputs": [
        {
          "output_type": "execute_result",
          "data": {
            "text/plain": [
              "<graphviz.dot.Digraph at 0x7f5642ae6b50>"
            ],
            "image/svg+xml": "<?xml version=\"1.0\" encoding=\"UTF-8\" standalone=\"no\"?>\n<!DOCTYPE svg PUBLIC \"-//W3C//DTD SVG 1.1//EN\"\n \"http://www.w3.org/Graphics/SVG/1.1/DTD/svg11.dtd\">\n<!-- Generated by graphviz version 2.40.1 (20161225.0304)\n -->\n<!-- Title: G Pages: 1 -->\n<svg width=\"429pt\" height=\"392pt\"\n viewBox=\"0.00 0.00 429.49 392.00\" xmlns=\"http://www.w3.org/2000/svg\" xmlns:xlink=\"http://www.w3.org/1999/xlink\">\n<g id=\"graph0\" class=\"graph\" transform=\"scale(1 1) rotate(0) translate(4 388)\">\n<title>G</title>\n<polygon fill=\"#ffffff\" stroke=\"transparent\" points=\"-4,4 -4,-388 425.489,-388 425.489,4 -4,4\"/>\n<!-- DOS CORRALES -->\n<g id=\"node1\" class=\"node\">\n<title>DOS CORRALES</title>\n<ellipse fill=\"none\" stroke=\"#000000\" cx=\"205.489\" cy=\"-366\" rx=\"81.7856\" ry=\"18\"/>\n<text text-anchor=\"middle\" x=\"205.489\" y=\"-362.3\" font-family=\"Times,serif\" font-size=\"14.00\" fill=\"#000000\">DOS CORRALES</text>\n</g>\n<!-- EL PALMO -->\n<g id=\"node2\" class=\"node\">\n<title>EL PALMO</title>\n<ellipse fill=\"none\" stroke=\"#000000\" cx=\"128.489\" cy=\"-279\" rx=\"56.59\" ry=\"18\"/>\n<text text-anchor=\"middle\" x=\"128.489\" y=\"-275.3\" font-family=\"Times,serif\" font-size=\"14.00\" fill=\"#000000\">EL PALMO</text>\n</g>\n<!-- DOS CORRALES&#45;&gt;EL PALMO -->\n<g id=\"edge1\" class=\"edge\">\n<title>DOS CORRALES&#45;&gt;EL PALMO</title>\n<path fill=\"none\" stroke=\"#000000\" d=\"M154.9334,-351.6575C144.9014,-346.4583 135.5935,-339.4401 129.489,-330 125.2092,-323.3815 123.7843,-315.2008 123.7466,-307.3441\"/>\n<polygon fill=\"#000000\" stroke=\"#000000\" points=\"127.2398,-307.5604 124.3726,-297.3609 120.2536,-307.1223 127.2398,-307.5604\"/>\n<text text-anchor=\"middle\" x=\"198.989\" y=\"-318.8\" font-family=\"Times,serif\" font-size=\"14.00\" fill=\"#000000\">0.03648936010674258</text>\n</g>\n<!-- PAMPA DE LEQUE LEQUE -->\n<g id=\"node3\" class=\"node\">\n<title>PAMPA DE LEQUE LEQUE</title>\n<ellipse fill=\"none\" stroke=\"#000000\" cx=\"123.489\" cy=\"-192\" rx=\"123.4781\" ry=\"18\"/>\n<text text-anchor=\"middle\" x=\"123.489\" y=\"-188.3\" font-family=\"Times,serif\" font-size=\"14.00\" fill=\"#000000\">PAMPA DE LEQUE LEQUE</text>\n</g>\n<!-- EL PALMO&#45;&gt;PAMPA DE LEQUE LEQUE -->\n<g id=\"edge2\" class=\"edge\">\n<title>EL PALMO&#45;&gt;PAMPA DE LEQUE LEQUE</title>\n<path fill=\"none\" stroke=\"#000000\" d=\"M127.453,-260.9735C126.7759,-249.1918 125.8776,-233.5607 125.1073,-220.1581\"/>\n<polygon fill=\"#000000\" stroke=\"#000000\" points=\"128.5918,-219.786 124.5237,-210.0034 121.6033,-220.1877 128.5918,-219.786\"/>\n<text text-anchor=\"middle\" x=\"195.989\" y=\"-231.8\" font-family=\"Times,serif\" font-size=\"14.00\" fill=\"#000000\">0.03990746282338595</text>\n</g>\n<!-- LA VIÑA -->\n<g id=\"node4\" class=\"node\">\n<title>LA VIÑA</title>\n<ellipse fill=\"none\" stroke=\"#000000\" cx=\"121.489\" cy=\"-105\" rx=\"48.9926\" ry=\"18\"/>\n<text text-anchor=\"middle\" x=\"121.489\" y=\"-101.3\" font-family=\"Times,serif\" font-size=\"14.00\" fill=\"#000000\">LA VIÑA</text>\n</g>\n<!-- PAMPA DE LEQUE LEQUE&#45;&gt;LA VIÑA -->\n<g id=\"edge3\" class=\"edge\">\n<title>PAMPA DE LEQUE LEQUE&#45;&gt;LA VIÑA</title>\n<path fill=\"none\" stroke=\"#000000\" d=\"M123.0746,-173.9735C122.8038,-162.1918 122.4445,-146.5607 122.1364,-133.1581\"/>\n<polygon fill=\"#000000\" stroke=\"#000000\" points=\"125.6319,-132.9202 121.9029,-123.0034 118.6338,-133.0812 125.6319,-132.9202\"/>\n<text text-anchor=\"middle\" x=\"192.989\" y=\"-144.8\" font-family=\"Times,serif\" font-size=\"14.00\" fill=\"#000000\">0.09194587604672444</text>\n</g>\n<!-- SALDAÑA BAJO -->\n<g id=\"node5\" class=\"node\">\n<title>SALDAÑA BAJO</title>\n<ellipse fill=\"none\" stroke=\"#000000\" cx=\"201.489\" cy=\"-18\" rx=\"81.4863\" ry=\"18\"/>\n<text text-anchor=\"middle\" x=\"201.489\" y=\"-14.3\" font-family=\"Times,serif\" font-size=\"14.00\" fill=\"#000000\">SALDAÑA BAJO</text>\n</g>\n<!-- LA VIÑA&#45;&gt;SALDAÑA BAJO -->\n<g id=\"edge4\" class=\"edge\">\n<title>LA VIÑA&#45;&gt;SALDAÑA BAJO</title>\n<path fill=\"none\" stroke=\"#000000\" d=\"M116.8738,-86.6379C115.3354,-76.2672 115.3354,-63.5172 121.489,-54 125.9663,-47.0756 132.1279,-41.4698 139.0612,-36.9347\"/>\n<polygon fill=\"#000000\" stroke=\"#000000\" points=\"141.2253,-39.7304 148.1874,-31.7442 137.7646,-33.6457 141.2253,-39.7304\"/>\n<text text-anchor=\"middle\" x=\"194.989\" y=\"-57.8\" font-family=\"Times,serif\" font-size=\"14.00\" fill=\"#000000\">0.007063147810997783</text>\n</g>\n<!-- SALDAÑA BAJO&#45;&gt;DOS CORRALES -->\n<g id=\"edge5\" class=\"edge\">\n<title>SALDAÑA BAJO&#45;&gt;DOS CORRALES</title>\n<path fill=\"none\" stroke=\"#000000\" d=\"M242.9181,-33.5493C252.4419,-38.7951 261.7411,-45.5319 268.489,-54 283.1375,-72.3825 282.489,-81.4948 282.489,-105 282.489,-279 282.489,-279 282.489,-279 282.489,-302.5052 282.8964,-311.4279 268.489,-330 264.235,-335.4837 258.8942,-340.2745 253.1313,-344.4166\"/>\n<polygon fill=\"#000000\" stroke=\"#000000\" points=\"250.957,-341.6547 244.4634,-350.0263 254.7603,-347.5313 250.957,-341.6547\"/>\n<text text-anchor=\"middle\" x=\"351.989\" y=\"-188.3\" font-family=\"Times,serif\" font-size=\"14.00\" fill=\"#000000\">0.08672309822071995</text>\n</g>\n</g>\n</svg>\n"
          },
          "metadata": {
            "tags": []
          },
          "execution_count": 25
        }
      ]
    },
    {
      "cell_type": "code",
      "metadata": {
        "id": "zB8teEsrRr94"
      },
      "source": [
        ""
      ],
      "execution_count": null,
      "outputs": []
    }
  ]
}