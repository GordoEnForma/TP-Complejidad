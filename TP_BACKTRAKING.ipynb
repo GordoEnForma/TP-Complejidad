{
  "nbformat": 4,
  "nbformat_minor": 0,
  "metadata": {
    "colab": {
      "name": "TP_BACKTRAKING.ipynb",
      "provenance": [],
      "collapsed_sections": []
    },
    "kernelspec": {
      "name": "python3",
      "display_name": "Python 3"
    },
    "language_info": {
      "name": "python"
    }
  },
  "cells": [
    {
      "cell_type": "markdown",
      "metadata": {
        "id": "x0PyhyjIOv3p"
      },
      "source": [
        "#TRABAJO PARCIAL - BACKTRAKING"
      ]
    },
    {
      "cell_type": "code",
      "metadata": {
        "id": "Z0SbdUFbE9-_"
      },
      "source": [
        "import pandas as pd\n",
        "import networkx as nx"
      ],
      "execution_count": 128,
      "outputs": []
    },
    {
      "cell_type": "code",
      "metadata": {
        "id": "_yNigL64FCF1"
      },
      "source": [
        "CP = pd.read_csv(\"https://raw.githubusercontent.com/lmcanavals/algorithmic_complexity/main/data/poblaciones.csv\")"
      ],
      "execution_count": 129,
      "outputs": []
    },
    {
      "cell_type": "code",
      "metadata": {
        "colab": {
          "base_uri": "https://localhost:8080/",
          "height": 194
        },
        "id": "cLaDpec8FZ6e",
        "outputId": "80be5231-1e1b-4504-c34c-3bbe03285925"
      },
      "source": [
        "CP.head()"
      ],
      "execution_count": 130,
      "outputs": [
        {
          "output_type": "execute_result",
          "data": {
            "text/html": [
              "<div>\n",
              "<style scoped>\n",
              "    .dataframe tbody tr th:only-of-type {\n",
              "        vertical-align: middle;\n",
              "    }\n",
              "\n",
              "    .dataframe tbody tr th {\n",
              "        vertical-align: top;\n",
              "    }\n",
              "\n",
              "    .dataframe thead th {\n",
              "        text-align: right;\n",
              "    }\n",
              "</style>\n",
              "<table border=\"1\" class=\"dataframe\">\n",
              "  <thead>\n",
              "    <tr style=\"text-align: right;\">\n",
              "      <th></th>\n",
              "      <th>DEPARTAMENTO</th>\n",
              "      <th>PROVINCIA</th>\n",
              "      <th>DISTRITO</th>\n",
              "      <th>CENTRO POBLADO</th>\n",
              "      <th>LATITUD</th>\n",
              "      <th>LONGITUD</th>\n",
              "      <th>NMI1</th>\n",
              "      <th>NMI2</th>\n",
              "    </tr>\n",
              "  </thead>\n",
              "  <tbody>\n",
              "    <tr>\n",
              "      <th>0</th>\n",
              "      <td>AMAZONAS</td>\n",
              "      <td>BAGUA</td>\n",
              "      <td>ARAMANGO</td>\n",
              "      <td>EL MUYO (C.P.L.)</td>\n",
              "      <td>-5.422545</td>\n",
              "      <td>-78.45299</td>\n",
              "      <td>311</td>\n",
              "      <td>1206</td>\n",
              "    </tr>\n",
              "    <tr>\n",
              "      <th>1</th>\n",
              "      <td>AMAZONAS</td>\n",
              "      <td>BAGUA</td>\n",
              "      <td>ARAMANGO</td>\n",
              "      <td>RESERVA UJUCANO</td>\n",
              "      <td>-5.427565</td>\n",
              "      <td>-78.444372</td>\n",
              "      <td>44</td>\n",
              "      <td>129</td>\n",
              "    </tr>\n",
              "    <tr>\n",
              "      <th>2</th>\n",
              "      <td>AMAZONAS</td>\n",
              "      <td>BAGUA</td>\n",
              "      <td>ARAMANGO</td>\n",
              "      <td>TUTUMBEROS</td>\n",
              "      <td>-5.327317</td>\n",
              "      <td>-78.44472</td>\n",
              "      <td>49</td>\n",
              "      <td>179</td>\n",
              "    </tr>\n",
              "    <tr>\n",
              "      <th>3</th>\n",
              "      <td>AMAZONAS</td>\n",
              "      <td>BAGUA</td>\n",
              "      <td>BAGUA</td>\n",
              "      <td>ALENYA BAJO</td>\n",
              "      <td>-5.682439</td>\n",
              "      <td>-78.495229</td>\n",
              "      <td>3</td>\n",
              "      <td>8</td>\n",
              "    </tr>\n",
              "    <tr>\n",
              "      <th>4</th>\n",
              "      <td>AMAZONAS</td>\n",
              "      <td>BONGARA</td>\n",
              "      <td>CUISPES</td>\n",
              "      <td>MITOPAMPA</td>\n",
              "      <td>-5.93856</td>\n",
              "      <td>-77.965302</td>\n",
              "      <td>1</td>\n",
              "      <td>4</td>\n",
              "    </tr>\n",
              "  </tbody>\n",
              "</table>\n",
              "</div>"
            ],
            "text/plain": [
              "  DEPARTAMENTO PROVINCIA  DISTRITO  ...    LONGITUD NMI1  NMI2\n",
              "0     AMAZONAS     BAGUA  ARAMANGO  ...   -78.45299  311  1206\n",
              "1     AMAZONAS     BAGUA  ARAMANGO  ...  -78.444372   44   129\n",
              "2     AMAZONAS     BAGUA  ARAMANGO  ...   -78.44472   49   179\n",
              "3     AMAZONAS     BAGUA     BAGUA  ...  -78.495229    3     8\n",
              "4     AMAZONAS   BONGARA   CUISPES  ...  -77.965302    1     4\n",
              "\n",
              "[5 rows x 8 columns]"
            ]
          },
          "metadata": {
            "tags": []
          },
          "execution_count": 130
        }
      ]
    },
    {
      "cell_type": "code",
      "metadata": {
        "id": "bOkOk1b3Gs93"
      },
      "source": [
        "def listaDistritos(prov):\n",
        "  listitaDistritos = []\n",
        "  \n",
        "  for e in range(0,len(CP)):\n",
        "    if CP['PROVINCIA'][e] == prov and (CP['DISTRITO'][e] not in listitaDistritos):\n",
        "      \n",
        "      listitaDistritos.append(CP['DISTRITO'][e])\n",
        "\n",
        "  return listitaDistritos"
      ],
      "execution_count": 131,
      "outputs": []
    },
    {
      "cell_type": "code",
      "metadata": {
        "id": "evweNVbnGwup"
      },
      "source": [
        "distritoDF = dict()\n",
        "\n",
        "distritos = listaDistritos('CHICLAYO')\n",
        "\n",
        "for distrito in distritos:\n",
        "  distritoDF[distrito] = CP[CP['DISTRITO'] == distrito]"
      ],
      "execution_count": 132,
      "outputs": []
    },
    {
      "cell_type": "code",
      "metadata": {
        "id": "gnu9krxUG-vi"
      },
      "source": [
        "def listaCP(distrito):\n",
        "  listitaCP = []\n",
        "  \n",
        "  for e in range(0,len(CP)):\n",
        "    if CP['DISTRITO'][e] == distrito:\n",
        "      listitaCP.append(CP['CENTRO POBLADO'][e])\n",
        "\n",
        "  return listitaCP"
      ],
      "execution_count": 133,
      "outputs": []
    },
    {
      "cell_type": "code",
      "metadata": {
        "id": "2btr5gw2HOiT"
      },
      "source": [
        "centrosPobladosDF = dict()\n",
        "centrosPoblados = listaCP('NUEVA ARICA')\n",
        "\n",
        "for cp in centrosPoblados:\n",
        "  centrosPobladosDF[cp] = distritoDF['NUEVA ARICA'][distritoDF['NUEVA ARICA']['CENTRO POBLADO'] ==cp]"
      ],
      "execution_count": 134,
      "outputs": []
    },
    {
      "cell_type": "code",
      "metadata": {
        "colab": {
          "base_uri": "https://localhost:8080/"
        },
        "id": "XG7UAUGZHd8L",
        "outputId": "f5e39029-5789-46fb-80a9-8e542a27f318"
      },
      "source": [
        "centrosPobladosDF"
      ],
      "execution_count": 135,
      "outputs": [
        {
          "output_type": "execute_result",
          "data": {
            "text/plain": [
              "{'DOS CORRALES':      DEPARTAMENTO PROVINCIA     DISTRITO  ...    LONGITUD NMI1 NMI2\n",
              " 1618   LAMBAYEQUE  CHICLAYO  NUEVA ARICA  ...  -79.366007   13   36\n",
              " \n",
              " [1 rows x 8 columns],\n",
              " 'EL PALMO':      DEPARTAMENTO PROVINCIA     DISTRITO  ...    LONGITUD NMI1 NMI2\n",
              " 1619   LAMBAYEQUE  CHICLAYO  NUEVA ARICA  ...  -79.332908    1    2\n",
              " \n",
              " [1 rows x 8 columns],\n",
              " 'LA VIÑA':      DEPARTAMENTO PROVINCIA     DISTRITO  ...    LONGITUD NMI1 NMI2\n",
              " 1620   LAMBAYEQUE  CHICLAYO  NUEVA ARICA  ...  -79.457594  131  406\n",
              " \n",
              " [1 rows x 8 columns],\n",
              " 'PAMPA DE LEQUE LEQUE':      DEPARTAMENTO PROVINCIA     DISTRITO  ...    LONGITUD NMI1 NMI2\n",
              " 1621   LAMBAYEQUE  CHICLAYO  NUEVA ARICA  ...  -79.366725    3    7\n",
              " \n",
              " [1 rows x 8 columns],\n",
              " 'SALDAÑA BAJO':      DEPARTAMENTO PROVINCIA     DISTRITO  ...    LONGITUD NMI1 NMI2\n",
              " 1622   LAMBAYEQUE  CHICLAYO  NUEVA ARICA  ...  -79.450958    9   30\n",
              " \n",
              " [1 rows x 8 columns]}"
            ]
          },
          "metadata": {
            "tags": []
          },
          "execution_count": 135
        }
      ]
    },
    {
      "cell_type": "code",
      "metadata": {
        "colab": {
          "base_uri": "https://localhost:8080/",
          "height": 76
        },
        "id": "eYuDehJce1Pl",
        "outputId": "598df9c6-a32d-4c36-9e45-7fe27c772fb6"
      },
      "source": [
        "type(centrosPobladosDF['DOS CORRALES']) #TYPO DE SUS ELEMENTOS DE LA LLAVE 'DOS CORRALES'\n",
        "centrosPobladosDF['DOS CORRALES']       #ELEMENTOS DE LA LLAVE 'DOS CORRALES'"
      ],
      "execution_count": 136,
      "outputs": [
        {
          "output_type": "execute_result",
          "data": {
            "text/html": [
              "<div>\n",
              "<style scoped>\n",
              "    .dataframe tbody tr th:only-of-type {\n",
              "        vertical-align: middle;\n",
              "    }\n",
              "\n",
              "    .dataframe tbody tr th {\n",
              "        vertical-align: top;\n",
              "    }\n",
              "\n",
              "    .dataframe thead th {\n",
              "        text-align: right;\n",
              "    }\n",
              "</style>\n",
              "<table border=\"1\" class=\"dataframe\">\n",
              "  <thead>\n",
              "    <tr style=\"text-align: right;\">\n",
              "      <th></th>\n",
              "      <th>DEPARTAMENTO</th>\n",
              "      <th>PROVINCIA</th>\n",
              "      <th>DISTRITO</th>\n",
              "      <th>CENTRO POBLADO</th>\n",
              "      <th>LATITUD</th>\n",
              "      <th>LONGITUD</th>\n",
              "      <th>NMI1</th>\n",
              "      <th>NMI2</th>\n",
              "    </tr>\n",
              "  </thead>\n",
              "  <tbody>\n",
              "    <tr>\n",
              "      <th>1618</th>\n",
              "      <td>LAMBAYEQUE</td>\n",
              "      <td>CHICLAYO</td>\n",
              "      <td>NUEVA ARICA</td>\n",
              "      <td>DOS CORRALES</td>\n",
              "      <td>-6.877873</td>\n",
              "      <td>-79.366007</td>\n",
              "      <td>13</td>\n",
              "      <td>36</td>\n",
              "    </tr>\n",
              "  </tbody>\n",
              "</table>\n",
              "</div>"
            ],
            "text/plain": [
              "     DEPARTAMENTO PROVINCIA     DISTRITO  ...    LONGITUD NMI1 NMI2\n",
              "1618   LAMBAYEQUE  CHICLAYO  NUEVA ARICA  ...  -79.366007   13   36\n",
              "\n",
              "[1 rows x 8 columns]"
            ]
          },
          "metadata": {
            "tags": []
          },
          "execution_count": 136
        }
      ]
    },
    {
      "cell_type": "code",
      "metadata": {
        "id": "jxDffIwdt2WT"
      },
      "source": [
        "#Funcion para extraer info distrito\n",
        "def lista(df):\n",
        "  Lista_Keys = []\n",
        "  Lista_Nodos = []\n",
        "  #Agregando las llaves de 'df' en una lista\n",
        "  for k in df.keys():\n",
        "    Lista_Keys.append(k)\n",
        "  for i in range(len(df)):\n",
        "    nodo = df[Lista_Keys[i]]\n",
        "    Lista_Nodos.append(nodo.values.tolist())\n",
        "  return Lista_Nodos"
      ],
      "execution_count": 137,
      "outputs": []
    },
    {
      "cell_type": "code",
      "metadata": {
        "colab": {
          "base_uri": "https://localhost:8080/"
        },
        "id": "_IO8dpdwvAy0",
        "outputId": "d43820a4-595f-4e69-d57d-829dfbd8ae6f"
      },
      "source": [
        "info_CentrosP=lista(centrosPobladosDF)\n",
        "info_CentrosP"
      ],
      "execution_count": 138,
      "outputs": [
        {
          "output_type": "execute_result",
          "data": {
            "text/plain": [
              "[[['LAMBAYEQUE',\n",
              "   'CHICLAYO',\n",
              "   'NUEVA ARICA',\n",
              "   'DOS CORRALES',\n",
              "   '-6.877873',\n",
              "   '-79.366007',\n",
              "   '13',\n",
              "   '36']],\n",
              " [['LAMBAYEQUE',\n",
              "   'CHICLAYO',\n",
              "   'NUEVA ARICA',\n",
              "   'EL PALMO',\n",
              "   '-6.862513',\n",
              "   '-79.332908',\n",
              "   '1',\n",
              "   '2']],\n",
              " [['LAMBAYEQUE',\n",
              "   'CHICLAYO',\n",
              "   'NUEVA ARICA',\n",
              "   'LA VIÑA',\n",
              "   '-6.897734',\n",
              "   '-79.457594',\n",
              "   '131',\n",
              "   '406']],\n",
              " [['LAMBAYEQUE',\n",
              "   'CHICLAYO',\n",
              "   'NUEVA ARICA',\n",
              "   'PAMPA DE LEQUE LEQUE',\n",
              "   '-6.883703',\n",
              "   '-79.366725',\n",
              "   '3',\n",
              "   '7']],\n",
              " [['LAMBAYEQUE',\n",
              "   'CHICLAYO',\n",
              "   'NUEVA ARICA',\n",
              "   'SALDAÑA BAJO',\n",
              "   '-6.895315',\n",
              "   '-79.450958',\n",
              "   '9',\n",
              "   '30']]]"
            ]
          },
          "metadata": {
            "tags": []
          },
          "execution_count": 138
        }
      ]
    },
    {
      "cell_type": "code",
      "metadata": {
        "id": "vPm-Qz2G9SX1"
      },
      "source": [
        "#Funcion para agregar las llaves de \"centrosPobladosDF\" en una Lista\n",
        "def lista2(df):\n",
        "  Lista_Keys = []\n",
        "  #Agregando las llaves de 'df' en una lista\n",
        "  for k in df.keys():\n",
        "    Lista_Keys.append(k)\n",
        "  return Lista_Keys"
      ],
      "execution_count": 139,
      "outputs": []
    },
    {
      "cell_type": "code",
      "metadata": {
        "colab": {
          "base_uri": "https://localhost:8080/"
        },
        "id": "utne8GXd7-gP",
        "outputId": "0186da50-dfbd-4246-f0bb-c44461a9864b"
      },
      "source": [
        "llaves_CentrosP= lista2(centrosPobladosDF)\n",
        "llaves_CentrosP"
      ],
      "execution_count": 140,
      "outputs": [
        {
          "output_type": "execute_result",
          "data": {
            "text/plain": [
              "['DOS CORRALES', 'EL PALMO', 'LA VIÑA', 'PAMPA DE LEQUE LEQUE', 'SALDAÑA BAJO']"
            ]
          },
          "metadata": {
            "tags": []
          },
          "execution_count": 140
        }
      ]
    },
    {
      "cell_type": "code",
      "metadata": {
        "id": "pGMSmBL1SKsj"
      },
      "source": [
        "#Funcion para hallar distancia\n",
        "def distancia(p1,p2):\n",
        "  dist = ((float(p2[5]) - float(p1[5]))**2 + (float(p2[4]) - float(p1[4]))**2)**0.5\n",
        "  return dist"
      ],
      "execution_count": 141,
      "outputs": []
    },
    {
      "cell_type": "code",
      "metadata": {
        "id": "3csxch-5iQ7Z"
      },
      "source": [
        "#Funcion para crear un grafo en base con pesos\n",
        "def crearGraph(path,lista):\n",
        "  G = nx.DiGraph()\n",
        "  for e in range(0,len(path)):\n",
        "    for i in range(e,len(path)):\n",
        "      if path[e] != path[i]:\n",
        "        G.add_edge(path[e],path[i], weight = distancia(lista[e][0],lista[i][0]))\n",
        "\n",
        "  return G"
      ],
      "execution_count": 154,
      "outputs": []
    },
    {
      "cell_type": "code",
      "metadata": {
        "id": "SW2aCQwUBsEa"
      },
      "source": [
        "G = crearGraph(llaves_CentrosP,info_CentrosP)"
      ],
      "execution_count": 143,
      "outputs": []
    },
    {
      "cell_type": "code",
      "metadata": {
        "id": "0MXnM2KK9ROO"
      },
      "source": [
        "import graphviz as gv\n",
        "import networkx as nx\n",
        "\n",
        "#FUNCION GRAFICAR GRAFO\n",
        "def nx2gv(G, weighted=False, params={'rankdir': 'LR', 'size': '6'},\n",
        "          path=None, pathparams={'color':'orangered'}, nodeinfo=False):\n",
        "  g = gv.Graph('G')\n",
        "  g.attr(**params)\n",
        "  \n",
        "  for u in G.nodes:\n",
        "    if nodeinfo:\n",
        "      g.node(str(u), **dict(G.nodes[u]))\n",
        "    else:\n",
        "      g.node(str(u))\n",
        "\n",
        "  for u, v in G.edges():\n",
        "    pp = pathparams if path and path[v] == u else {}\n",
        "\n",
        "    if weighted:\n",
        "      g.edge(str(u), str(v), f\"{G.edges[u, v]['weight']}\", **pp)\n",
        "    else:\n",
        "      g.edge(str(u), str(v), **pp)\n",
        "      \n",
        "  return g"
      ],
      "execution_count": 155,
      "outputs": []
    },
    {
      "cell_type": "code",
      "metadata": {
        "colab": {
          "base_uri": "https://localhost:8080/",
          "height": 543
        },
        "id": "rsyTSTqLBoYK",
        "outputId": "0bc2aa93-f6b2-42d4-97a8-0325c48c90ef"
      },
      "source": [
        "nx2gv(G, weighted=True,params={'size':'15'})"
      ],
      "execution_count": 145,
      "outputs": [
        {
          "output_type": "execute_result",
          "data": {
            "text/plain": [
              "<graphviz.dot.Graph at 0x7fd66f321790>"
            ],
            "image/svg+xml": "<?xml version=\"1.0\" encoding=\"UTF-8\" standalone=\"no\"?>\n<!DOCTYPE svg PUBLIC \"-//W3C//DTD SVG 1.1//EN\"\n \"http://www.w3.org/Graphics/SVG/1.1/DTD/svg11.dtd\">\n<!-- Generated by graphviz version 2.40.1 (20161225.0304)\n -->\n<!-- Title: G Pages: 1 -->\n<svg width=\"803pt\" height=\"392pt\"\n viewBox=\"0.00 0.00 803.00 392.00\" xmlns=\"http://www.w3.org/2000/svg\" xmlns:xlink=\"http://www.w3.org/1999/xlink\">\n<g id=\"graph0\" class=\"graph\" transform=\"scale(1 1) rotate(0) translate(4 388)\">\n<title>G</title>\n<polygon fill=\"#ffffff\" stroke=\"transparent\" points=\"-4,4 -4,-388 799,-388 799,4 -4,4\"/>\n<!-- DOS CORRALES -->\n<g id=\"node1\" class=\"node\">\n<title>DOS CORRALES</title>\n<ellipse fill=\"none\" stroke=\"#000000\" cx=\"232\" cy=\"-366\" rx=\"81.7856\" ry=\"18\"/>\n<text text-anchor=\"middle\" x=\"232\" y=\"-362.3\" font-family=\"Times,serif\" font-size=\"14.00\" fill=\"#000000\">DOS CORRALES</text>\n</g>\n<!-- EL PALMO -->\n<g id=\"node2\" class=\"node\">\n<title>EL PALMO</title>\n<ellipse fill=\"none\" stroke=\"#000000\" cx=\"339\" cy=\"-279\" rx=\"56.59\" ry=\"18\"/>\n<text text-anchor=\"middle\" x=\"339\" y=\"-275.3\" font-family=\"Times,serif\" font-size=\"14.00\" fill=\"#000000\">EL PALMO</text>\n</g>\n<!-- DOS CORRALES&#45;&#45;EL PALMO -->\n<g id=\"edge1\" class=\"edge\">\n<title>DOS CORRALES&#45;&#45;EL PALMO</title>\n<path fill=\"none\" stroke=\"#000000\" d=\"M253.3959,-348.6033C272.3018,-333.2312 299.6957,-310.9577 318.3683,-295.7753\"/>\n<text text-anchor=\"middle\" x=\"360.5\" y=\"-318.8\" font-family=\"Times,serif\" font-size=\"14.00\" fill=\"#000000\">0.03648936010674258</text>\n</g>\n<!-- LA VIÑA -->\n<g id=\"node3\" class=\"node\">\n<title>LA VIÑA</title>\n<ellipse fill=\"none\" stroke=\"#000000\" cx=\"338\" cy=\"-192\" rx=\"48.9926\" ry=\"18\"/>\n<text text-anchor=\"middle\" x=\"338\" y=\"-188.3\" font-family=\"Times,serif\" font-size=\"14.00\" fill=\"#000000\">LA VIÑA</text>\n</g>\n<!-- DOS CORRALES&#45;&#45;LA VIÑA -->\n<g id=\"edge2\" class=\"edge\">\n<title>DOS CORRALES&#45;&#45;LA VIÑA</title>\n<path fill=\"none\" stroke=\"#000000\" d=\"M196.8959,-349.5505C159.714,-329.8267 109.5078,-295.1393 134,-261 153.0154,-234.4947 240.8928,-212.0638 294.9187,-200.4681\"/>\n<text text-anchor=\"middle\" x=\"203.5\" y=\"-275.3\" font-family=\"Times,serif\" font-size=\"14.00\" fill=\"#000000\">0.09371572914938417</text>\n</g>\n<!-- PAMPA DE LEQUE LEQUE -->\n<g id=\"node4\" class=\"node\">\n<title>PAMPA DE LEQUE LEQUE</title>\n<ellipse fill=\"none\" stroke=\"#000000\" cx=\"609\" cy=\"-105\" rx=\"123.4781\" ry=\"18\"/>\n<text text-anchor=\"middle\" x=\"609\" y=\"-101.3\" font-family=\"Times,serif\" font-size=\"14.00\" fill=\"#000000\">PAMPA DE LEQUE LEQUE</text>\n</g>\n<!-- DOS CORRALES&#45;&#45;PAMPA DE LEQUE LEQUE -->\n<g id=\"edge3\" class=\"edge\">\n<title>DOS CORRALES&#45;&#45;PAMPA DE LEQUE LEQUE</title>\n<path fill=\"none\" stroke=\"#000000\" d=\"M306.3178,-358.3555C345.1019,-352.9759 392.9048,-344.1372 434,-330 541.9116,-292.8773 602.1073,-307.748 661,-210 678.7415,-180.5534 650.3967,-144.2258 629.0821,-122.9354\"/>\n<text text-anchor=\"middle\" x=\"721.5\" y=\"-231.8\" font-family=\"Times,serif\" font-size=\"14.00\" fill=\"#000000\">0.005874046646052768</text>\n</g>\n<!-- SALDAÑA BAJO -->\n<g id=\"node5\" class=\"node\">\n<title>SALDAÑA BAJO</title>\n<ellipse fill=\"none\" stroke=\"#000000\" cx=\"244\" cy=\"-18\" rx=\"81.4863\" ry=\"18\"/>\n<text text-anchor=\"middle\" x=\"244\" y=\"-14.3\" font-family=\"Times,serif\" font-size=\"14.00\" fill=\"#000000\">SALDAÑA BAJO</text>\n</g>\n<!-- DOS CORRALES&#45;&#45;SALDAÑA BAJO -->\n<g id=\"edge4\" class=\"edge\">\n<title>DOS CORRALES&#45;&#45;SALDAÑA BAJO</title>\n<path fill=\"none\" stroke=\"#000000\" d=\"M167.6832,-354.8515C99.024,-341.076 0,-314.9727 0,-279 0,-279 0,-279 0,-105 0,-67.2224 105.082,-41.5601 177.3259,-28.3813\"/>\n<text text-anchor=\"middle\" x=\"69.5\" y=\"-188.3\" font-family=\"Times,serif\" font-size=\"14.00\" fill=\"#000000\">0.08672309822071995</text>\n</g>\n<!-- EL PALMO&#45;&#45;LA VIÑA -->\n<g id=\"edge5\" class=\"edge\">\n<title>EL PALMO&#45;&#45;LA VIÑA</title>\n<path fill=\"none\" stroke=\"#000000\" d=\"M338.7928,-260.9735C338.6212,-246.0422 338.3785,-224.9283 338.2069,-210.0034\"/>\n<text text-anchor=\"middle\" x=\"407.5\" y=\"-231.8\" font-family=\"Times,serif\" font-size=\"14.00\" fill=\"#000000\">0.12956510887194608</text>\n</g>\n<!-- EL PALMO&#45;&#45;PAMPA DE LEQUE LEQUE -->\n<g id=\"edge6\" class=\"edge\">\n<title>EL PALMO&#45;&#45;PAMPA DE LEQUE LEQUE</title>\n<path fill=\"none\" stroke=\"#000000\" d=\"M389.0604,-270.5098C423.8299,-263.8389 466.4304,-253.8811 481,-243 509.581,-221.6548 498.5264,-200.8605 522,-174 539.5061,-153.968 563.4196,-135.4824 581.7455,-122.6971\"/>\n<text text-anchor=\"middle\" x=\"591.5\" y=\"-188.3\" font-family=\"Times,serif\" font-size=\"14.00\" fill=\"#000000\">0.03990746282338595</text>\n</g>\n<!-- EL PALMO&#45;&#45;SALDAÑA BAJO -->\n<g id=\"edge7\" class=\"edge\">\n<title>EL PALMO&#45;&#45;SALDAÑA BAJO</title>\n<path fill=\"none\" stroke=\"#000000\" d=\"M302.7382,-265.1547C261.244,-247.1045 195.3738,-211.1729 167,-156 144.4149,-112.0832 191.6577,-61.6993 221.6987,-35.6545\"/>\n<text text-anchor=\"middle\" x=\"236.5\" y=\"-144.8\" font-family=\"Times,serif\" font-size=\"14.00\" fill=\"#000000\">0.12252254365625628</text>\n</g>\n<!-- LA VIÑA&#45;&#45;PAMPA DE LEQUE LEQUE -->\n<g id=\"edge8\" class=\"edge\">\n<title>LA VIÑA&#45;&#45;PAMPA DE LEQUE LEQUE</title>\n<path fill=\"none\" stroke=\"#000000\" d=\"M339.3172,-173.9969C341.1238,-162.8093 345.3221,-149.0679 355,-141 356.6276,-139.6431 446.159,-127.167 518.461,-117.2774\"/>\n<text text-anchor=\"middle\" x=\"424.5\" y=\"-144.8\" font-family=\"Times,serif\" font-size=\"14.00\" fill=\"#000000\">0.09194587604672444</text>\n</g>\n<!-- LA VIÑA&#45;&#45;SALDAÑA BAJO -->\n<g id=\"edge9\" class=\"edge\">\n<title>LA VIÑA&#45;&#45;SALDAÑA BAJO</title>\n<path fill=\"none\" stroke=\"#000000\" d=\"M328.2944,-174.0343C310.2818,-140.6918 271.8725,-69.5937 253.7936,-36.1286\"/>\n<text text-anchor=\"middle\" x=\"373.5\" y=\"-101.3\" font-family=\"Times,serif\" font-size=\"14.00\" fill=\"#000000\">0.007063147810997783</text>\n</g>\n<!-- PAMPA DE LEQUE LEQUE&#45;&#45;SALDAÑA BAJO -->\n<g id=\"edge10\" class=\"edge\">\n<title>PAMPA DE LEQUE LEQUE&#45;&#45;SALDAÑA BAJO</title>\n<path fill=\"none\" stroke=\"#000000\" d=\"M544.1659,-89.5464C474.6172,-72.969 365.3242,-46.9184 299.574,-31.2464\"/>\n<text text-anchor=\"middle\" x=\"517.5\" y=\"-57.8\" font-family=\"Times,serif\" font-size=\"14.00\" fill=\"#000000\">0.08502962326742132</text>\n</g>\n</g>\n</svg>\n"
          },
          "metadata": {
            "tags": []
          },
          "execution_count": 145
        }
      ]
    },
    {
      "cell_type": "code",
      "metadata": {
        "id": "0b68i4xTjaWg"
      },
      "source": [
        "#FUNCION PARA SACAR MATRIZ ADYACENCIA PESOS (DISTANCIA)\n",
        "def matAdy(lista,centPob):\n",
        "  matrix= [] #FALTA ARREGLAR\n",
        "  for i in range(len(centPob)):\n",
        "    matrix.append([])\n",
        "    for j in range(len(centPob)):\n",
        "      if i != j:\n",
        "        d = distancia(lista[i][0],lista[j][0])\n",
        "        matrix[i].append(d)\n",
        "      else:\n",
        "        matrix[i].append(0)\n",
        "  return matrix"
      ],
      "execution_count": 153,
      "outputs": []
    },
    {
      "cell_type": "code",
      "metadata": {
        "id": "wDb9nfC4pWoU",
        "colab": {
          "base_uri": "https://localhost:8080/"
        },
        "outputId": "70b21367-edc0-42a8-887d-49fad32a6d59"
      },
      "source": [
        "matrixAdj= matAdy(info_CentrosP,llaves_CentrosP)\n",
        "matrixAdj"
      ],
      "execution_count": 152,
      "outputs": [
        {
          "output_type": "execute_result",
          "data": {
            "text/plain": [
              "[[0,\n",
              "  0.03648936010674258,\n",
              "  0.09371572914938417,\n",
              "  0.005874046646052768,\n",
              "  0.08672309822071995],\n",
              " [0.03648936010674258,\n",
              "  0,\n",
              "  0.12956510887194608,\n",
              "  0.03990746282338595,\n",
              "  0.12252254365625628],\n",
              " [0.09371572914938417,\n",
              "  0.12956510887194608,\n",
              "  0,\n",
              "  0.09194587604672444,\n",
              "  0.007063147810997783],\n",
              " [0.005874046646052768,\n",
              "  0.03990746282338595,\n",
              "  0.09194587604672444,\n",
              "  0,\n",
              "  0.08502962326742132],\n",
              " [0.08672309822071995,\n",
              "  0.12252254365625628,\n",
              "  0.007063147810997783,\n",
              "  0.08502962326742132,\n",
              "  0]]"
            ]
          },
          "metadata": {
            "tags": []
          },
          "execution_count": 152
        }
      ]
    },
    {
      "cell_type": "code",
      "metadata": {
        "id": "7Bd0dDCMu4n1"
      },
      "source": [
        "#FUNCION PARA HALLAR LA RUTA MAS CORTA CON BT\n",
        "def pathBT(matrix, v, currPos, N, count, cost,path):\n",
        "  global paths\n",
        "  if (count == N and matrix[currPos][0]):\n",
        "    answer.append(cost + matrix[currPos][0])\n",
        "    paths.append(path.copy())\n",
        "    return\n",
        "\n",
        "  #BT\n",
        "  for i in range(N):\n",
        "    if (v[i] == False and matrix[currPos][i]):\n",
        "      \n",
        "      v[i] = True\n",
        "      path.append(i)\n",
        "\n",
        "      pathBT(matrix, v, i, N, count + 1, cost + matrix[currPos][i],path)\n",
        "\n",
        "      v[i] = False\n",
        "      path.remove(i)"
      ],
      "execution_count": 149,
      "outputs": []
    },
    {
      "cell_type": "code",
      "metadata": {
        "colab": {
          "base_uri": "https://localhost:8080/"
        },
        "id": "0iwZbu9kvRRf",
        "outputId": "e53fdef2-ca6b-4c77-f84f-602e4be12388"
      },
      "source": [
        "path=[]     #Lista de distancia\n",
        "answer=[]   #Lista de respuestas\n",
        "paths=[]    #Lista de caminos\n",
        "visited = [False for i in range(5)]\n",
        "visited[0]=True\n",
        "path.append(0)\n",
        "\n",
        "rutita=[]\n",
        "pathBT(matrixAdj,visited,0,len(matrixAdj),1,0,path)\n",
        "\n",
        "#Agregar la ruta en una lista\n",
        "for i in range(len(G)):\n",
        "  p=paths[answer.index(min(answer))]\n",
        "  rutita.append(list(G)[p[i]])\n",
        "rutita.append(list(G)[p[0]])\n",
        "\n",
        "print(\"LA RUTA MÁS CORTA: \")\n",
        "print(rutita)\n",
        "print(\"Con la distancia: \")\n",
        "print(min(answer))"
      ],
      "execution_count": 151,
      "outputs": [
        {
          "output_type": "stream",
          "text": [
            "LA RUTA MÁS CORTA: \n",
            "['DOS CORRALES', 'EL PALMO', 'PAMPA DE LEQUE LEQUE', 'LA VIÑA', 'SALDAÑA BAJO', 'DOS CORRALES']\n",
            "Con la distancia: \n",
            "0.2621289450085707\n"
          ],
          "name": "stdout"
        }
      ]
    }
  ]
}